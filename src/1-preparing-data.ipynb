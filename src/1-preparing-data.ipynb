{
 "cells": [
  {
   "cell_type": "markdown",
   "metadata": {},
   "source": [
    "# Preparing Data\n",
    "\n",
    "In this project, we will use Yelp online reviews as a dataset, and mainly focus on building a filter by analyzing online text reviews. For more information of dataset, [find this].\n",
    "\n",
    "In this first notebook, we start process dataset by normalize and pretrain the dataset. Further notebooks will use different learning algorithms to train our refined dataset.\n",
    "\n",
    "Let's import some packages and data files.\n",
    "\n",
    "[find this]:(http://odds.cs.stonybrook.edu/yelpnyc-dataset/)"
   ]
  },
  {
   "cell_type": "code",
   "execution_count": 20,
   "metadata": {},
   "outputs": [],
   "source": [
    "import numpy as np\n",
    "import os\n",
    "content = np.loadtxt(\"../data/reviewContent\", dtype=np.str, delimiter=\"\\t\")\n",
    "data = np.loadtxt(\"../data/metadata\", \n",
    "\t\tdtype={'names': ('user_id', 'prod_id', 'rating', 'label', 'date'), \n",
    "        'formats': (np.int_, np.int_, np.float, np.int_, '|S11')}, delimiter=\"\\t\")"
   ]
  },
  {
   "cell_type": "markdown",
   "metadata": {},
   "source": [
    "## Data Regroup\n",
    "From raw data files, for each sample they contains:\n",
    "* metadata\n",
    "```\n",
    "<user_id> <restaurant_id> <rating> <label> <date>\n",
    "```\n",
    "* reviewContent\n",
    "```\n",
    "<user_id> <restaurant_id> <date> <review>\n",
    "```\n",
    "\n",
    "\n",
    "For this project we have to rearrange those sample as one sample dataset:\n",
    "\n",
    "| Label | Rating | Review |\n",
    "| :-----------: |:-------------:| :-----|\n",
    "| 1 for real, -1 for fake    | 5.0 | The food at ... seated. |\n",
    "\n",
    "Here is what we get:"
   ]
  },
  {
   "cell_type": "code",
   "execution_count": 22,
   "metadata": {},
   "outputs": [],
   "source": [
    "sc = content[:, 3].reshape(content.shape[0], 1)\n",
    "dt = np.array([data['label'], data['rating']])\n",
    "rst = np.hstack([dt.T, sc])\n",
    "# np.savetxt('../data/sample', rst, fmt='%s', delimiter='\\t')"
   ]
  },
  {
   "cell_type": "markdown",
   "metadata": {},
   "source": [
    "## Text Normalization\n",
    "\n",
    "## Word Embedding"
   ]
  }
 ],
 "metadata": {
  "kernelspec": {
   "display_name": "Python 3",
   "language": "python",
   "name": "python3"
  },
  "language_info": {
   "codemirror_mode": {
    "name": "ipython",
    "version": 3
   },
   "file_extension": ".py",
   "mimetype": "text/x-python",
   "name": "python",
   "nbconvert_exporter": "python",
   "pygments_lexer": "ipython3",
   "version": "3.7.0"
  }
 },
 "nbformat": 4,
 "nbformat_minor": 2
}
